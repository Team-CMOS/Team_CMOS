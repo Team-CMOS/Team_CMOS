{
 "cells": [
  {
   "cell_type": "code",
   "execution_count": 1,
   "id": "eb9001fc",
   "metadata": {},
   "outputs": [],
   "source": [
    "import pandas as pd\n",
    "\n",
    "df1 = pd.read_csv('dark_patterns.csv')\n",
    "df2 = pd.read_csv('normie.csv')"
   ]
  },
  {
   "cell_type": "code",
   "execution_count": 13,
   "id": "2f353040",
   "metadata": {},
   "outputs": [
    {
     "name": "stdout",
     "output_type": "stream",
     "text": [
      "Accuracy:  0.9926127527216174\n"
     ]
    },
    {
     "data": {
      "text/plain": [
       "['presence_vectorizer.joblib']"
      ]
     },
     "execution_count": 13,
     "metadata": {},
     "output_type": "execute_result"
    }
   ],
   "source": [
    "# Importing libraries and Different ML Algorithms\n",
    "import pandas as pd \n",
    "from sklearn.model_selection import train_test_split\n",
    "from sklearn.feature_extraction.text import CountVectorizer\n",
    "from sklearn.feature_extraction.text import TfidfTransformer\n",
    "from sklearn.naive_bayes import BernoulliNB\n",
    "from sklearn.linear_model import LogisticRegression\n",
    "from sklearn import metrics\n",
    "from joblib import dump\n",
    "from sklearn.metrics import confusion_matrix\n",
    "\n",
    "# Getting input data to ML model\n",
    "df1 = pd.read_csv('testing_data.csv')\n",
    "df2 = pd.read_csv('synthetic data.csv')\n",
    "\n",
    "df1 = df1[pd.notnull(df1[\"Pattern String\"])]\n",
    "df1 = df1[df1[\"classification\"] == 0]\n",
    "df1[\"classification\"] = \"Not Dark\"\n",
    "df1.drop_duplicates(subset=\"Pattern String\")\n",
    "\n",
    "df2 = df2[pd.notnull(df2[\"Pattern String\"])]\n",
    "df2[\"classification\"] = \"Dark\"\n",
    "col = [\"Pattern String\",\"Pattern Category\",\"Pattern Type\", \"classification\"]\n",
    "df2 = df2[col].dropna()\n",
    "\n",
    "df = pd.concat([df1, df2])\n",
    "\n",
    "# Splitting training and test data\n",
    "\n",
    "X_train, X_test, y_train, y_test = train_test_split(\n",
    "    df['Pattern String'], df[\"classification\"], train_size = .75)\n",
    "\n",
    "# Vectorizing the data from text to vectors\n",
    "\n",
    "count_vect = CountVectorizer()\n",
    "X_train_counts = count_vect.fit_transform(X_train)\n",
    "tfidf_transformer = TfidfTransformer()\n",
    "X_train_tfidf = tfidf_transformer.fit_transform(X_train_counts)\n",
    "\n",
    "# Main ML algo used \n",
    "\n",
    "clf = LogisticRegression().fit(X_train_tfidf, y_train)\n",
    "\n",
    "y_pred = clf.predict(count_vect.transform(X_test))\n",
    "\n",
    "print(\"Accuracy: \", metrics.accuracy_score(y_pred, y_test))\n",
    "\n",
    "# Model dumped to joblib format for further use\n",
    "\n",
    "dump(clf, 'presence_classifer.joblib')\n",
    "dump(count_vect, 'presence_vectorizer.joblib')"
   ]
  },
  {
   "cell_type": "code",
   "execution_count": null,
   "id": "f1bbe290",
   "metadata": {},
   "outputs": [],
   "source": []
  }
 ],
 "metadata": {
  "kernelspec": {
   "display_name": "Python 3 (ipykernel)",
   "language": "python",
   "name": "python3"
  },
  "language_info": {
   "codemirror_mode": {
    "name": "ipython",
    "version": 3
   },
   "file_extension": ".py",
   "mimetype": "text/x-python",
   "name": "python",
   "nbconvert_exporter": "python",
   "pygments_lexer": "ipython3",
   "version": "3.10.7"
  }
 },
 "nbformat": 4,
 "nbformat_minor": 5
}
